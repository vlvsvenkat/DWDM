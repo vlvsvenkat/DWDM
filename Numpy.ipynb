{
  "nbformat": 4,
  "nbformat_minor": 0,
  "metadata": {
    "colab": {
      "provenance": [],
      "authorship_tag": "ABX9TyNRS0BHOR3QOEROKrj+tnM8",
      "include_colab_link": true
    },
    "kernelspec": {
      "name": "python3",
      "display_name": "Python 3"
    },
    "language_info": {
      "name": "python"
    }
  },
  "cells": [
    {
      "cell_type": "markdown",
      "metadata": {
        "id": "view-in-github",
        "colab_type": "text"
      },
      "source": [
        "<a href=\"https://colab.research.google.com/github/vlvsvenkat/DWDM/blob/main/Numpy.ipynb\" target=\"_parent\"><img src=\"https://colab.research.google.com/assets/colab-badge.svg\" alt=\"Open In Colab\"/></a>"
      ]
    },
    {
      "cell_type": "code",
      "execution_count": null,
      "metadata": {
        "colab": {
          "base_uri": "https://localhost:8080/"
        },
        "id": "Vui5urrGX5sQ",
        "outputId": "d994d8b6-a711-4bee-e86b-4407c774dd5f"
      },
      "outputs": [
        {
          "output_type": "stream",
          "name": "stdout",
          "text": [
            "[1 2 3]\n"
          ]
        }
      ],
      "source": [
        "import numpy as np\n",
        "x = np.array([1,2,3])\n",
        "print(x)"
      ]
    },
    {
      "cell_type": "code",
      "source": [
        "y = np.array([[4,5,6],[7,8,9]])\n",
        "print(y)"
      ],
      "metadata": {
        "colab": {
          "base_uri": "https://localhost:8080/"
        },
        "id": "qk617-XlYDkM",
        "outputId": "cea7d0d3-ef6e-4360-a5b1-6f82a8a6265a"
      },
      "execution_count": null,
      "outputs": [
        {
          "output_type": "stream",
          "name": "stdout",
          "text": [
            "[[4 5 6]\n",
            " [7 8 9]]\n"
          ]
        }
      ]
    },
    {
      "cell_type": "code",
      "source": [
        "import numpy as np\n",
        "np.arange( 10, 30, 5 )"
      ],
      "metadata": {
        "colab": {
          "base_uri": "https://localhost:8080/"
        },
        "id": "3BJvtWh5YLPE",
        "outputId": "45c52756-ef95-4061-bf65-340a9f0a9ded"
      },
      "execution_count": null,
      "outputs": [
        {
          "output_type": "execute_result",
          "data": {
            "text/plain": [
              "array([10, 15, 20, 25])"
            ]
          },
          "metadata": {},
          "execution_count": 4
        }
      ]
    },
    {
      "cell_type": "code",
      "source": [
        "b = np.append(x,[6,4,2])\n",
        "print(b)"
      ],
      "metadata": {
        "colab": {
          "base_uri": "https://localhost:8080/"
        },
        "id": "c6pB_WqSYQR1",
        "outputId": "ef33661e-13ec-40d6-b3ef-17ee913fefec"
      },
      "execution_count": null,
      "outputs": [
        {
          "output_type": "stream",
          "name": "stdout",
          "text": [
            "[1 2 3 6 4 2]\n"
          ]
        }
      ]
    },
    {
      "cell_type": "code",
      "source": [
        "print(\"The elements in X before deleting\",x)\n",
        "newarray = np.delete(x,2) \n",
        "print(\"The elements in X after deleting\",newarray)"
      ],
      "metadata": {
        "colab": {
          "base_uri": "https://localhost:8080/"
        },
        "id": "0xauPWWKYT2m",
        "outputId": "eddf9d58-b84f-424a-bce9-eb7b7bd4f44a"
      },
      "execution_count": null,
      "outputs": [
        {
          "output_type": "stream",
          "name": "stdout",
          "text": [
            "The elements in X before deleting [1 2 3]\n",
            "The elements in X after deleting [1 2]\n"
          ]
        }
      ]
    },
    {
      "cell_type": "code",
      "source": [
        "b = np.array([6,4,1,3,5,9])\n",
        "b[b<4] = -1 # Elements less than 4 are replaced with \"-1\"\n",
        "print(b)"
      ],
      "metadata": {
        "colab": {
          "base_uri": "https://localhost:8080/"
        },
        "id": "giR78WDgYY8t",
        "outputId": "0d55c6bb-e9ad-41ad-bae0-e43c1ca81fbb"
      },
      "execution_count": null,
      "outputs": [
        {
          "output_type": "stream",
          "name": "stdout",
          "text": [
            "[ 6  4 -1 -1  5  9]\n"
          ]
        }
      ]
    },
    {
      "cell_type": "code",
      "source": [
        "a = np.array( [20,30,40,50] )\n",
        "b = np.arange( 4 )\n",
        "print(\"The elements in a are\",a)\n",
        "print(\"The elements in b are\",b)\n",
        "print(\"Result after Addition\",a+b)\n",
        "print(\"Result after substraction\",a-b)\n",
        "print(\"Result after multiplication\",a*b)\n",
        "print(\"Result after division\",a/b) \n",
        "print(\"Result after increasing the number to the power of 4\",b**4) \n",
        "print(\"Result after applying sin and multiplying with 10\",10*np.sin(a))\n",
        "a[0] +=10 \n",
        "print(\"Result after adding first element with 10\",a)\n",
        "print(np.dot(a,b)) "
      ],
      "metadata": {
        "colab": {
          "base_uri": "https://localhost:8080/"
        },
        "id": "qVbKT2D7YcBe",
        "outputId": "16dd72dd-7e2e-497a-e111-f4d923afa82d"
      },
      "execution_count": null,
      "outputs": [
        {
          "output_type": "stream",
          "name": "stdout",
          "text": [
            "The elements in a are [20 30 40 50]\n",
            "The elements in b are [0 1 2 3]\n",
            "Result after Addition [20 31 42 53]\n",
            "Result after substraction [20 29 38 47]\n",
            "Result after multiplication [  0  30  80 150]\n",
            "Result after division [        inf 30.         20.         16.66666667]\n",
            "Result after increasing the number to the power of 4 [ 0  1 16 81]\n",
            "Result after applying sin and multiplying with 10 [ 9.12945251 -9.88031624  7.4511316  -2.62374854]\n",
            "Result after adding first element with 10 [30 30 40 50]\n",
            "260\n"
          ]
        },
        {
          "output_type": "stream",
          "name": "stderr",
          "text": [
            "<ipython-input-9-57f6c50a45d6>:8: RuntimeWarning: divide by zero encountered in true_divide\n",
            "  print(\"Result after division\",a/b)\n"
          ]
        }
      ]
    },
    {
      "cell_type": "code",
      "source": [
        "a=np.arange(10)**3\n",
        "print(\"Let's consider the elements\",a)\n",
        "print(\"The output of a[2] is\", a[2]) \n",
        "print(\"The output of a[2:4] is\",a[2:4])\n",
        "print(\"The output of a[2:3] is\",a[2:3]) \n",
        "print(\"The output of a[-1] is\",a[-1])\n",
        "print(\"The output of a[-2] is\",a[-2]) \n",
        "print(\"The output of a[-5:-2] is\",a[-5:-2]) "
      ],
      "metadata": {
        "colab": {
          "base_uri": "https://localhost:8080/"
        },
        "id": "bUKAyOM5YuOa",
        "outputId": "d182da8a-f9e1-4be0-b924-266e43607033"
      },
      "execution_count": null,
      "outputs": [
        {
          "output_type": "stream",
          "name": "stdout",
          "text": [
            "Let's consider the elements [  0   1   8  27  64 125 216 343 512 729]\n",
            "The output of a[2] is 8\n",
            "The output of a[2:4] is [ 8 27]\n",
            "The output of a[2:3] is [8]\n",
            "The output of a[-1] is 729\n",
            "The output of a[-2] is 512\n",
            "The output of a[-5:-2] is [125 216 343]\n"
          ]
        }
      ]
    },
    {
      "cell_type": "code",
      "source": [
        "a=np.arange(12).reshape(4,3)**2 \n",
        "print(\"The output of a[2] is\",a)\n",
        "print(\"The output of a[1:3] is\",a[1:3]) \n",
        "print(\"The output of a[1:3,1:2] is\",a[1:3,1:2]) \n",
        "print(\"The output of a[2,] is\",a[2,])\n",
        "print(\"The output of a[:3,] is\",a[:3,])\n",
        "print(\"The output of a[-1,] is\",a[-1,])\n",
        "print(\"The output of a[-1,-1] is\",a[-1,-1]) "
      ],
      "metadata": {
        "colab": {
          "base_uri": "https://localhost:8080/"
        },
        "id": "q2KDbQQnZY-F",
        "outputId": "4f486531-6034-4e67-a0be-81ecb738b98b"
      },
      "execution_count": null,
      "outputs": [
        {
          "output_type": "stream",
          "name": "stdout",
          "text": [
            "The output of a[2] is [[  0   1   4]\n",
            " [  9  16  25]\n",
            " [ 36  49  64]\n",
            " [ 81 100 121]]\n",
            "The output of a[1:3] is [[ 9 16 25]\n",
            " [36 49 64]]\n",
            "The output of a[1:3,1:2] is [[16]\n",
            " [49]]\n",
            "The output of a[2,] is [36 49 64]\n",
            "The output of a[:3,] is [[ 0  1  4]\n",
            " [ 9 16 25]\n",
            " [36 49 64]]\n",
            "The output of a[-1,] is [ 81 100 121]\n",
            "The output of a[-1,-1] is 121\n"
          ]
        }
      ]
    },
    {
      "cell_type": "code",
      "source": [
        "a=np.arange(12).reshape(4,3)**2\n",
        "print(\"Let's consider an array\\n\",a)\n",
        "print(\"\\n\")\n",
        "for i in a:\n",
        "   print(i*2)"
      ],
      "metadata": {
        "colab": {
          "base_uri": "https://localhost:8080/"
        },
        "id": "MwPXY5Q5ZiUn",
        "outputId": "cf3163bb-bacd-4cfb-c3b9-9ec7a1e7a2f5"
      },
      "execution_count": null,
      "outputs": [
        {
          "output_type": "stream",
          "name": "stdout",
          "text": [
            "Let's consider an array\n",
            " [[  0   1   4]\n",
            " [  9  16  25]\n",
            " [ 36  49  64]\n",
            " [ 81 100 121]]\n",
            "\n",
            "\n",
            "[0 2 8]\n",
            "[18 32 50]\n",
            "[ 72  98 128]\n",
            "[162 200 242]\n"
          ]
        }
      ]
    },
    {
      "cell_type": "code",
      "source": [
        "a=np.floor(10*np.random.random((3,4))) \n",
        "print(\"Let's consider a 1-D array\\n\",a)\n",
        "print(\"After reshaping to 2 by 6 matrix\\n\",a.reshape(2,6))\n",
        "print(\"To Flatten the array\\n\",a.ravel())\n",
        "print(\"To transpose the array\\n\",a.T)"
      ],
      "metadata": {
        "colab": {
          "base_uri": "https://localhost:8080/"
        },
        "id": "VjyKbxoZZs03",
        "outputId": "fb5d187e-9577-4317-c464-725b8d66a1fe"
      },
      "execution_count": null,
      "outputs": [
        {
          "output_type": "stream",
          "name": "stdout",
          "text": [
            "Let's consider a 1-D array\n",
            " [[0. 5. 5. 6.]\n",
            " [6. 0. 5. 9.]\n",
            " [9. 5. 0. 2.]]\n",
            "After reshaping to 2 by 6 matrix\n",
            " [[0. 5. 5. 6. 6. 0.]\n",
            " [5. 9. 9. 5. 0. 2.]]\n",
            "To Flatten the array\n",
            " [0. 5. 5. 6. 6. 0. 5. 9. 9. 5. 0. 2.]\n",
            "To transpose the array\n",
            " [[0. 6. 9.]\n",
            " [5. 0. 5.]\n",
            " [5. 5. 0.]\n",
            " [6. 9. 2.]]\n"
          ]
        }
      ]
    },
    {
      "cell_type": "code",
      "source": [],
      "metadata": {
        "id": "-XoGfGWAZyk_"
      },
      "execution_count": null,
      "outputs": []
    }
  ]
}