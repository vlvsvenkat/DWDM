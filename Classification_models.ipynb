{
  "cells": [
    {
      "cell_type": "markdown",
      "metadata": {
        "id": "view-in-github",
        "colab_type": "text"
      },
      "source": [
        "<a href=\"https://colab.research.google.com/github/vlvsvenkat/DWDM/blob/main/Classification_models.ipynb\" target=\"_parent\"><img src=\"https://colab.research.google.com/assets/colab-badge.svg\" alt=\"Open In Colab\"/></a>"
      ]
    },
    {
      "cell_type": "markdown",
      "metadata": {
        "id": "VRAQZAtN7Flz"
      },
      "source": [
        "# 6. Classification\n",
        "\n",
        "# Decision tree, KNN, SVM, Logistic regression and Naive bayes"
      ]
    },
    {
      "cell_type": "markdown",
      "metadata": {
        "id": "zauDHNDs7Fl_"
      },
      "source": [
        "## 1) Import the necessary packages."
      ]
    },
    {
      "cell_type": "code",
      "execution_count": null,
      "metadata": {
        "id": "oNSK6K5r7FmB"
      },
      "outputs": [],
      "source": [
        "import numpy as np\n",
        "import pandas as pd\n",
        "\n",
        "from sklearn.tree import DecisionTreeClassifier\n",
        "from sklearn.neighbors import KNeighborsClassifier\n",
        "from sklearn.linear_model import LogisticRegression\n",
        "from sklearn.svm import SVC\n",
        "from sklearn.naive_bayes import GaussianNB\n",
        "\n",
        "from sklearn.model_selection import train_test_split\n",
        "from sklearn import metrics"
      ]
    },
    {
      "cell_type": "markdown",
      "metadata": {
        "id": "F4rb8tFv7FmH"
      },
      "source": [
        "## 2) Import the dataset"
      ]
    },
    {
      "cell_type": "code",
      "execution_count": null,
      "metadata": {
        "id": "andd9tp27FmI",
        "outputId": "cbf35753-496b-46da-fe8d-7c87be56c3f1"
      },
      "outputs": [
        {
          "data": {
            "text/html": [
              "<div>\n",
              "<style scoped>\n",
              "    .dataframe tbody tr th:only-of-type {\n",
              "        vertical-align: middle;\n",
              "    }\n",
              "\n",
              "    .dataframe tbody tr th {\n",
              "        vertical-align: top;\n",
              "    }\n",
              "\n",
              "    .dataframe thead th {\n",
              "        text-align: right;\n",
              "    }\n",
              "</style>\n",
              "<table border=\"1\" class=\"dataframe\">\n",
              "  <thead>\n",
              "    <tr style=\"text-align: right;\">\n",
              "      <th></th>\n",
              "      <th>Roll No</th>\n",
              "      <th>Gender</th>\n",
              "      <th>Section</th>\n",
              "      <th>SSC Percentage</th>\n",
              "      <th>inter_Diploma_percentage</th>\n",
              "      <th>B.Tech_percentage</th>\n",
              "      <th>Backlogs</th>\n",
              "      <th>registered_for_ Placement_Training</th>\n",
              "      <th>placement status</th>\n",
              "    </tr>\n",
              "  </thead>\n",
              "  <tbody>\n",
              "    <tr>\n",
              "      <th>0</th>\n",
              "      <td>1</td>\n",
              "      <td>M</td>\n",
              "      <td>A</td>\n",
              "      <td>87.3</td>\n",
              "      <td>65.3</td>\n",
              "      <td>40.00</td>\n",
              "      <td>18</td>\n",
              "      <td>NO</td>\n",
              "      <td>Not placed</td>\n",
              "    </tr>\n",
              "    <tr>\n",
              "      <th>1</th>\n",
              "      <td>2</td>\n",
              "      <td>F</td>\n",
              "      <td>A</td>\n",
              "      <td>89.0</td>\n",
              "      <td>92.4</td>\n",
              "      <td>71.45</td>\n",
              "      <td>0</td>\n",
              "      <td>yes</td>\n",
              "      <td>Placed</td>\n",
              "    </tr>\n",
              "    <tr>\n",
              "      <th>2</th>\n",
              "      <td>3</td>\n",
              "      <td>F</td>\n",
              "      <td>A</td>\n",
              "      <td>67.0</td>\n",
              "      <td>68.0</td>\n",
              "      <td>45.26</td>\n",
              "      <td>13</td>\n",
              "      <td>yes</td>\n",
              "      <td>Not placed</td>\n",
              "    </tr>\n",
              "    <tr>\n",
              "      <th>3</th>\n",
              "      <td>4</td>\n",
              "      <td>M</td>\n",
              "      <td>A</td>\n",
              "      <td>71.0</td>\n",
              "      <td>70.4</td>\n",
              "      <td>36.47</td>\n",
              "      <td>17</td>\n",
              "      <td>yes</td>\n",
              "      <td>Not placed</td>\n",
              "    </tr>\n",
              "    <tr>\n",
              "      <th>4</th>\n",
              "      <td>5</td>\n",
              "      <td>M</td>\n",
              "      <td>A</td>\n",
              "      <td>NaN</td>\n",
              "      <td>65.5</td>\n",
              "      <td>42.52</td>\n",
              "      <td>17</td>\n",
              "      <td>yes</td>\n",
              "      <td>Not placed</td>\n",
              "    </tr>\n",
              "  </tbody>\n",
              "</table>\n",
              "</div>"
            ],
            "text/plain": [
              "   Roll No Gender Section  SSC Percentage  inter_Diploma_percentage  \\\n",
              "0        1      M       A            87.3                      65.3   \n",
              "1        2      F       A            89.0                      92.4   \n",
              "2        3      F       A            67.0                      68.0   \n",
              "3        4      M       A            71.0                      70.4   \n",
              "4        5      M       A             NaN                      65.5   \n",
              "\n",
              "   B.Tech_percentage  Backlogs registered_for_ Placement_Training  \\\n",
              "0              40.00        18                                 NO   \n",
              "1              71.45         0                                yes   \n",
              "2              45.26        13                                yes   \n",
              "3              36.47        17                                yes   \n",
              "4              42.52        17                                yes   \n",
              "\n",
              "  placement status  \n",
              "0       Not placed  \n",
              "1           Placed  \n",
              "2       Not placed  \n",
              "3       Not placed  \n",
              "4       Not placed  "
            ]
          },
          "execution_count": 2,
          "metadata": {},
          "output_type": "execute_result"
        }
      ],
      "source": [
        "data=pd.read_csv(\"students_placement_data.csv\")\n",
        "data.head()"
      ]
    },
    {
      "cell_type": "markdown",
      "metadata": {
        "id": "06OOyqSQ7FmM"
      },
      "source": [
        "## 3) Data preprocessing "
      ]
    },
    {
      "cell_type": "markdown",
      "metadata": {
        "id": "baGkhmXC7FmN"
      },
      "source": [
        "### 3.1) Check for missing values and fill it"
      ]
    },
    {
      "cell_type": "code",
      "execution_count": null,
      "metadata": {
        "id": "0hJxXj-U7FmO",
        "outputId": "231f2c7b-aa70-479b-a8cd-21f4b763b637"
      },
      "outputs": [
        {
          "data": {
            "text/plain": [
              "Roll No                               False\n",
              "Gender                                False\n",
              "Section                               False\n",
              "SSC Percentage                         True\n",
              "inter_Diploma_percentage              False\n",
              "B.Tech_percentage                     False\n",
              "Backlogs                              False\n",
              "registered_for_ Placement_Training     True\n",
              "placement status                      False\n",
              "dtype: bool"
            ]
          },
          "execution_count": 3,
          "metadata": {},
          "output_type": "execute_result"
        }
      ],
      "source": [
        "data.isna().any()"
      ]
    },
    {
      "cell_type": "markdown",
      "metadata": {
        "id": "USrpnG1S7FmR"
      },
      "source": [
        "We see that \"SSC Percentage\" and \"registered_for_ Placement_Training\"   are having missing values"
      ]
    },
    {
      "cell_type": "markdown",
      "metadata": {
        "id": "cUonKoaT7FmS"
      },
      "source": [
        "### 3.1.1) We replace the missing values in \"SSC Percentage\" with mean SSC percentage of all students."
      ]
    },
    {
      "cell_type": "code",
      "execution_count": null,
      "metadata": {
        "id": "y-PrmhnR7FmU",
        "outputId": "a8837ef8-165b-4903-8d5e-b8f77b7301f1"
      },
      "outputs": [
        {
          "data": {
            "text/html": [
              "<div>\n",
              "<style scoped>\n",
              "    .dataframe tbody tr th:only-of-type {\n",
              "        vertical-align: middle;\n",
              "    }\n",
              "\n",
              "    .dataframe tbody tr th {\n",
              "        vertical-align: top;\n",
              "    }\n",
              "\n",
              "    .dataframe thead th {\n",
              "        text-align: right;\n",
              "    }\n",
              "</style>\n",
              "<table border=\"1\" class=\"dataframe\">\n",
              "  <thead>\n",
              "    <tr style=\"text-align: right;\">\n",
              "      <th></th>\n",
              "      <th>Roll No</th>\n",
              "      <th>Gender</th>\n",
              "      <th>Section</th>\n",
              "      <th>SSC Percentage</th>\n",
              "      <th>inter_Diploma_percentage</th>\n",
              "      <th>B.Tech_percentage</th>\n",
              "      <th>Backlogs</th>\n",
              "      <th>registered_for_ Placement_Training</th>\n",
              "      <th>placement status</th>\n",
              "    </tr>\n",
              "  </thead>\n",
              "  <tbody>\n",
              "    <tr>\n",
              "      <th>0</th>\n",
              "      <td>1</td>\n",
              "      <td>M</td>\n",
              "      <td>A</td>\n",
              "      <td>87.300000</td>\n",
              "      <td>65.3</td>\n",
              "      <td>40.00</td>\n",
              "      <td>18</td>\n",
              "      <td>NO</td>\n",
              "      <td>Not placed</td>\n",
              "    </tr>\n",
              "    <tr>\n",
              "      <th>1</th>\n",
              "      <td>2</td>\n",
              "      <td>F</td>\n",
              "      <td>A</td>\n",
              "      <td>89.000000</td>\n",
              "      <td>92.4</td>\n",
              "      <td>71.45</td>\n",
              "      <td>0</td>\n",
              "      <td>yes</td>\n",
              "      <td>Placed</td>\n",
              "    </tr>\n",
              "    <tr>\n",
              "      <th>2</th>\n",
              "      <td>3</td>\n",
              "      <td>F</td>\n",
              "      <td>A</td>\n",
              "      <td>67.000000</td>\n",
              "      <td>68.0</td>\n",
              "      <td>45.26</td>\n",
              "      <td>13</td>\n",
              "      <td>yes</td>\n",
              "      <td>Not placed</td>\n",
              "    </tr>\n",
              "    <tr>\n",
              "      <th>3</th>\n",
              "      <td>4</td>\n",
              "      <td>M</td>\n",
              "      <td>A</td>\n",
              "      <td>71.000000</td>\n",
              "      <td>70.4</td>\n",
              "      <td>36.47</td>\n",
              "      <td>17</td>\n",
              "      <td>yes</td>\n",
              "      <td>Not placed</td>\n",
              "    </tr>\n",
              "    <tr>\n",
              "      <th>4</th>\n",
              "      <td>5</td>\n",
              "      <td>M</td>\n",
              "      <td>A</td>\n",
              "      <td>80.474569</td>\n",
              "      <td>65.5</td>\n",
              "      <td>42.52</td>\n",
              "      <td>17</td>\n",
              "      <td>yes</td>\n",
              "      <td>Not placed</td>\n",
              "    </tr>\n",
              "  </tbody>\n",
              "</table>\n",
              "</div>"
            ],
            "text/plain": [
              "   Roll No Gender Section  SSC Percentage  inter_Diploma_percentage  \\\n",
              "0        1      M       A       87.300000                      65.3   \n",
              "1        2      F       A       89.000000                      92.4   \n",
              "2        3      F       A       67.000000                      68.0   \n",
              "3        4      M       A       71.000000                      70.4   \n",
              "4        5      M       A       80.474569                      65.5   \n",
              "\n",
              "   B.Tech_percentage  Backlogs registered_for_ Placement_Training  \\\n",
              "0              40.00        18                                 NO   \n",
              "1              71.45         0                                yes   \n",
              "2              45.26        13                                yes   \n",
              "3              36.47        17                                yes   \n",
              "4              42.52        17                                yes   \n",
              "\n",
              "  placement status  \n",
              "0       Not placed  \n",
              "1           Placed  \n",
              "2       Not placed  \n",
              "3       Not placed  \n",
              "4       Not placed  "
            ]
          },
          "execution_count": 4,
          "metadata": {},
          "output_type": "execute_result"
        }
      ],
      "source": [
        "data[\"SSC Percentage\"]=data[\"SSC Percentage\"].replace(to_replace=np.nan,value=data[\"SSC Percentage\"].mean())  \n",
        "data.head()"
      ]
    },
    {
      "cell_type": "markdown",
      "metadata": {
        "id": "KPYIg9837FmV"
      },
      "source": [
        "### 3.1.2) We replace missing values in \"registered_for_ Placement_Training\" with the most frequent value in \"registered_for_ Placement_Training\" column. "
      ]
    },
    {
      "cell_type": "code",
      "execution_count": null,
      "metadata": {
        "id": "iZ3clVsx7FmW",
        "outputId": "a23a8dc4-5e29-4c26-d5ba-9a1b3428059d"
      },
      "outputs": [
        {
          "data": {
            "text/html": [
              "<div>\n",
              "<style scoped>\n",
              "    .dataframe tbody tr th:only-of-type {\n",
              "        vertical-align: middle;\n",
              "    }\n",
              "\n",
              "    .dataframe tbody tr th {\n",
              "        vertical-align: top;\n",
              "    }\n",
              "\n",
              "    .dataframe thead th {\n",
              "        text-align: right;\n",
              "    }\n",
              "</style>\n",
              "<table border=\"1\" class=\"dataframe\">\n",
              "  <thead>\n",
              "    <tr style=\"text-align: right;\">\n",
              "      <th></th>\n",
              "      <th>Roll No</th>\n",
              "      <th>Gender</th>\n",
              "      <th>Section</th>\n",
              "      <th>SSC Percentage</th>\n",
              "      <th>inter_Diploma_percentage</th>\n",
              "      <th>B.Tech_percentage</th>\n",
              "      <th>Backlogs</th>\n",
              "      <th>registered_for_ Placement_Training</th>\n",
              "      <th>placement status</th>\n",
              "    </tr>\n",
              "  </thead>\n",
              "  <tbody>\n",
              "    <tr>\n",
              "      <th>0</th>\n",
              "      <td>1</td>\n",
              "      <td>M</td>\n",
              "      <td>A</td>\n",
              "      <td>87.300000</td>\n",
              "      <td>65.3</td>\n",
              "      <td>40.00</td>\n",
              "      <td>18</td>\n",
              "      <td>NO</td>\n",
              "      <td>Not placed</td>\n",
              "    </tr>\n",
              "    <tr>\n",
              "      <th>1</th>\n",
              "      <td>2</td>\n",
              "      <td>F</td>\n",
              "      <td>A</td>\n",
              "      <td>89.000000</td>\n",
              "      <td>92.4</td>\n",
              "      <td>71.45</td>\n",
              "      <td>0</td>\n",
              "      <td>yes</td>\n",
              "      <td>Placed</td>\n",
              "    </tr>\n",
              "    <tr>\n",
              "      <th>2</th>\n",
              "      <td>3</td>\n",
              "      <td>F</td>\n",
              "      <td>A</td>\n",
              "      <td>67.000000</td>\n",
              "      <td>68.0</td>\n",
              "      <td>45.26</td>\n",
              "      <td>13</td>\n",
              "      <td>yes</td>\n",
              "      <td>Not placed</td>\n",
              "    </tr>\n",
              "    <tr>\n",
              "      <th>3</th>\n",
              "      <td>4</td>\n",
              "      <td>M</td>\n",
              "      <td>A</td>\n",
              "      <td>71.000000</td>\n",
              "      <td>70.4</td>\n",
              "      <td>36.47</td>\n",
              "      <td>17</td>\n",
              "      <td>yes</td>\n",
              "      <td>Not placed</td>\n",
              "    </tr>\n",
              "    <tr>\n",
              "      <th>4</th>\n",
              "      <td>5</td>\n",
              "      <td>M</td>\n",
              "      <td>A</td>\n",
              "      <td>80.474569</td>\n",
              "      <td>65.5</td>\n",
              "      <td>42.52</td>\n",
              "      <td>17</td>\n",
              "      <td>yes</td>\n",
              "      <td>Not placed</td>\n",
              "    </tr>\n",
              "  </tbody>\n",
              "</table>\n",
              "</div>"
            ],
            "text/plain": [
              "   Roll No Gender Section  SSC Percentage  inter_Diploma_percentage  \\\n",
              "0        1      M       A       87.300000                      65.3   \n",
              "1        2      F       A       89.000000                      92.4   \n",
              "2        3      F       A       67.000000                      68.0   \n",
              "3        4      M       A       71.000000                      70.4   \n",
              "4        5      M       A       80.474569                      65.5   \n",
              "\n",
              "   B.Tech_percentage  Backlogs registered_for_ Placement_Training  \\\n",
              "0              40.00        18                                 NO   \n",
              "1              71.45         0                                yes   \n",
              "2              45.26        13                                yes   \n",
              "3              36.47        17                                yes   \n",
              "4              42.52        17                                yes   \n",
              "\n",
              "  placement status  \n",
              "0       Not placed  \n",
              "1           Placed  \n",
              "2       Not placed  \n",
              "3       Not placed  \n",
              "4       Not placed  "
            ]
          },
          "execution_count": 5,
          "metadata": {},
          "output_type": "execute_result"
        }
      ],
      "source": [
        "data[\"registered_for_ Placement_Training\"]=data[\"registered_for_ Placement_Training\"].replace(to_replace=np.nan,value=data[\"registered_for_ Placement_Training\"].mode()[0])  \n",
        "data.head()\n",
        "\n",
        "# Note: We have used \"mode()[0]\" . because, mode() returns a series object. But we need only string. \n",
        "#So, mode()[0] is used to pic the string from the series. \n",
        "# If you execute \n",
        "\n",
        "#data[\"registered_for_ Placement_Training\"].mode() \n",
        "\n",
        "# then it returns a series object\n",
        "\n",
        "# 0    yes\n",
        "# dtype: object"
      ]
    },
    {
      "cell_type": "markdown",
      "metadata": {
        "id": "Dut6UtXU7FmY"
      },
      "source": [
        "###  3.1.3) We check for missing values again and make sure that there are no missing values."
      ]
    },
    {
      "cell_type": "code",
      "execution_count": null,
      "metadata": {
        "id": "skZjlJnS7FmZ",
        "outputId": "c39e12d8-5ab7-437e-e280-fcc85781173d"
      },
      "outputs": [
        {
          "data": {
            "text/plain": [
              "Roll No                               False\n",
              "Gender                                False\n",
              "Section                               False\n",
              "SSC Percentage                        False\n",
              "inter_Diploma_percentage              False\n",
              "B.Tech_percentage                     False\n",
              "Backlogs                              False\n",
              "registered_for_ Placement_Training    False\n",
              "placement status                      False\n",
              "dtype: bool"
            ]
          },
          "execution_count": 6,
          "metadata": {},
          "output_type": "execute_result"
        }
      ],
      "source": [
        "data.isna().any()"
      ]
    },
    {
      "cell_type": "markdown",
      "metadata": {
        "id": "qhrCL5Av7Fma"
      },
      "source": [
        "### 3.2) Convert the strings into numbers"
      ]
    },
    {
      "cell_type": "markdown",
      "metadata": {
        "id": "-PkRFxqk7Fmb"
      },
      "source": [
        "###  _Most of the classification algorithms cannot handle string information. So, Its better to change the string into numbers_"
      ]
    },
    {
      "cell_type": "code",
      "execution_count": null,
      "metadata": {
        "id": "yMGaTcLB7Fmc"
      },
      "outputs": [],
      "source": [
        "data['Gender'] = data['Gender'].map({'M': 0, 'F': 1})\n",
        "data['Section']=data['Section'].map({'A':0,'B':1})\n",
        "data['registered_for_ Placement_Training']=data['registered_for_ Placement_Training'].map({'NO':0,'yes':1})"
      ]
    },
    {
      "cell_type": "markdown",
      "metadata": {
        "id": "-4C_HLvF7Fmd"
      },
      "source": [
        "### Now have a look at our dataset again."
      ]
    },
    {
      "cell_type": "code",
      "execution_count": null,
      "metadata": {
        "id": "ohXdQA6G7Fme",
        "outputId": "c35e1846-15a2-4aa2-c968-6068a0440aa0"
      },
      "outputs": [
        {
          "data": {
            "text/html": [
              "<div>\n",
              "<style scoped>\n",
              "    .dataframe tbody tr th:only-of-type {\n",
              "        vertical-align: middle;\n",
              "    }\n",
              "\n",
              "    .dataframe tbody tr th {\n",
              "        vertical-align: top;\n",
              "    }\n",
              "\n",
              "    .dataframe thead th {\n",
              "        text-align: right;\n",
              "    }\n",
              "</style>\n",
              "<table border=\"1\" class=\"dataframe\">\n",
              "  <thead>\n",
              "    <tr style=\"text-align: right;\">\n",
              "      <th></th>\n",
              "      <th>Roll No</th>\n",
              "      <th>Gender</th>\n",
              "      <th>Section</th>\n",
              "      <th>SSC Percentage</th>\n",
              "      <th>inter_Diploma_percentage</th>\n",
              "      <th>B.Tech_percentage</th>\n",
              "      <th>Backlogs</th>\n",
              "      <th>registered_for_ Placement_Training</th>\n",
              "      <th>placement status</th>\n",
              "    </tr>\n",
              "  </thead>\n",
              "  <tbody>\n",
              "    <tr>\n",
              "      <th>0</th>\n",
              "      <td>1</td>\n",
              "      <td>0</td>\n",
              "      <td>0</td>\n",
              "      <td>87.300000</td>\n",
              "      <td>65.3</td>\n",
              "      <td>40.00</td>\n",
              "      <td>18</td>\n",
              "      <td>0</td>\n",
              "      <td>Not placed</td>\n",
              "    </tr>\n",
              "    <tr>\n",
              "      <th>1</th>\n",
              "      <td>2</td>\n",
              "      <td>1</td>\n",
              "      <td>0</td>\n",
              "      <td>89.000000</td>\n",
              "      <td>92.4</td>\n",
              "      <td>71.45</td>\n",
              "      <td>0</td>\n",
              "      <td>1</td>\n",
              "      <td>Placed</td>\n",
              "    </tr>\n",
              "    <tr>\n",
              "      <th>2</th>\n",
              "      <td>3</td>\n",
              "      <td>1</td>\n",
              "      <td>0</td>\n",
              "      <td>67.000000</td>\n",
              "      <td>68.0</td>\n",
              "      <td>45.26</td>\n",
              "      <td>13</td>\n",
              "      <td>1</td>\n",
              "      <td>Not placed</td>\n",
              "    </tr>\n",
              "    <tr>\n",
              "      <th>3</th>\n",
              "      <td>4</td>\n",
              "      <td>0</td>\n",
              "      <td>0</td>\n",
              "      <td>71.000000</td>\n",
              "      <td>70.4</td>\n",
              "      <td>36.47</td>\n",
              "      <td>17</td>\n",
              "      <td>1</td>\n",
              "      <td>Not placed</td>\n",
              "    </tr>\n",
              "    <tr>\n",
              "      <th>4</th>\n",
              "      <td>5</td>\n",
              "      <td>0</td>\n",
              "      <td>0</td>\n",
              "      <td>80.474569</td>\n",
              "      <td>65.5</td>\n",
              "      <td>42.52</td>\n",
              "      <td>17</td>\n",
              "      <td>1</td>\n",
              "      <td>Not placed</td>\n",
              "    </tr>\n",
              "  </tbody>\n",
              "</table>\n",
              "</div>"
            ],
            "text/plain": [
              "   Roll No  Gender  Section  SSC Percentage  inter_Diploma_percentage  \\\n",
              "0        1       0        0       87.300000                      65.3   \n",
              "1        2       1        0       89.000000                      92.4   \n",
              "2        3       1        0       67.000000                      68.0   \n",
              "3        4       0        0       71.000000                      70.4   \n",
              "4        5       0        0       80.474569                      65.5   \n",
              "\n",
              "   B.Tech_percentage  Backlogs  registered_for_ Placement_Training  \\\n",
              "0              40.00        18                                   0   \n",
              "1              71.45         0                                   1   \n",
              "2              45.26        13                                   1   \n",
              "3              36.47        17                                   1   \n",
              "4              42.52        17                                   1   \n",
              "\n",
              "  placement status  \n",
              "0       Not placed  \n",
              "1           Placed  \n",
              "2       Not placed  \n",
              "3       Not placed  \n",
              "4       Not placed  "
            ]
          },
          "execution_count": 8,
          "metadata": {},
          "output_type": "execute_result"
        }
      ],
      "source": [
        "data.head()"
      ]
    },
    {
      "cell_type": "markdown",
      "metadata": {
        "id": "gxwdxKHL7Fmf"
      },
      "source": [
        "## 4) Divide the data into features and labels.\n",
        "We are considering __\"Gender\",\"Section\",\"SSC  Percentage\",\"inter_Diploma_percentage\",\"B.Tech_percentage\",\"Backlogs\", \"registered_for_ Placement_Training\"__ as our features and __\"placement status\"__ as our label."
      ]
    },
    {
      "cell_type": "code",
      "execution_count": null,
      "metadata": {
        "id": "RuGzOFof7Fmg"
      },
      "outputs": [],
      "source": [
        "# features\n",
        "X=data[[\"Gender\",\"Section\",\"SSC Percentage\",\"inter_Diploma_percentage\",\"B.Tech_percentage\",\"Backlogs\",\"registered_for_ Placement_Training\"]].values"
      ]
    },
    {
      "cell_type": "code",
      "execution_count": null,
      "metadata": {
        "id": "qgr7Yxfs7Fmh"
      },
      "outputs": [],
      "source": [
        "# Labels\n",
        "y=data[\"placement status\"]"
      ]
    },
    {
      "cell_type": "markdown",
      "metadata": {
        "id": "vL5twERp7Fmi"
      },
      "source": [
        "## 5) Now split the data in training data and test data.\n",
        "Note:training data is used to built the model and test data is used to evaluate the model."
      ]
    },
    {
      "cell_type": "code",
      "execution_count": null,
      "metadata": {
        "id": "NMX2oV4-7Fmj"
      },
      "outputs": [],
      "source": [
        "X_train, X_test, y_train, y_test = train_test_split(X, y, test_size=0.2, random_state=10)"
      ]
    },
    {
      "cell_type": "markdown",
      "metadata": {
        "id": "GA-IUfiz7Fmk"
      },
      "source": [
        "### 5.1) Its always good to check the shapes of X, y ,X_train, X_test, y_train, y_test.\n",
        "Note: 80% is used for training and 20% is used for testing"
      ]
    },
    {
      "cell_type": "code",
      "execution_count": null,
      "metadata": {
        "id": "sC4W8xRv7Fmk",
        "outputId": "22ff3e26-0589-45b7-82f7-b5c527e48e63"
      },
      "outputs": [
        {
          "name": "stdout",
          "output_type": "stream",
          "text": [
            " The shape of original feature set is :  (117, 7)\n",
            "The shape of original class labels is (117,)\n",
            " The shape of Features in training data (93, 7)\n",
            "The shape of class labels in training data (93,)\n",
            " The shape of Features in test data (24, 7)\n",
            "The shape of class labels in test data (24,)\n"
          ]
        }
      ],
      "source": [
        "print (\" The shape of original feature set is : \",X.shape)\n",
        "print(\"The shape of original class labels is\", y.shape)\n",
        "print(\" The shape of Features in training data\",X_train.shape)\n",
        "print(\"The shape of class labels in training data\",y_train.shape)\n",
        "print(\" The shape of Features in test data\",X_test.shape)\n",
        "print(\"The shape of class labels in test data\",y_test.shape)"
      ]
    },
    {
      "cell_type": "markdown",
      "metadata": {
        "id": "J3Eob9Lt7Fml"
      },
      "source": [
        "# Now, Let's apply different models"
      ]
    },
    {
      "cell_type": "markdown",
      "metadata": {
        "id": "jrDE77-f7Fmm"
      },
      "source": [
        "#  <span style=\"color:red\"> <center> 1) Decision tree </centre> </span>"
      ]
    },
    {
      "cell_type": "code",
      "execution_count": null,
      "metadata": {
        "id": "B0dggOQs7Fmn"
      },
      "outputs": [],
      "source": [
        "model_DT = DecisionTreeClassifier() # Create Decision Tree classifer object\n",
        "model_DT = model_DT.fit(X_train,y_train) # Build the model using training data\n",
        "y_predict_DT = model_DT.predict(X_test) # Apply the model on test data."
      ]
    },
    {
      "cell_type": "code",
      "execution_count": null,
      "metadata": {
        "id": "e02wv9mw7Fmn",
        "outputId": "f02f6ef0-8f08-446d-d759-6b0070e13f3e"
      },
      "outputs": [
        {
          "data": {
            "text/html": [
              "<div>\n",
              "<style scoped>\n",
              "    .dataframe tbody tr th:only-of-type {\n",
              "        vertical-align: middle;\n",
              "    }\n",
              "\n",
              "    .dataframe tbody tr th {\n",
              "        vertical-align: top;\n",
              "    }\n",
              "\n",
              "    .dataframe thead th {\n",
              "        text-align: right;\n",
              "    }\n",
              "</style>\n",
              "<table border=\"1\" class=\"dataframe\">\n",
              "  <thead>\n",
              "    <tr style=\"text-align: right;\">\n",
              "      <th></th>\n",
              "      <th>predicted</th>\n",
              "      <th>Actual</th>\n",
              "    </tr>\n",
              "  </thead>\n",
              "  <tbody>\n",
              "    <tr>\n",
              "      <th>45</th>\n",
              "      <td>Not placed</td>\n",
              "      <td>Placed</td>\n",
              "    </tr>\n",
              "    <tr>\n",
              "      <th>95</th>\n",
              "      <td>Not placed</td>\n",
              "      <td>Not placed</td>\n",
              "    </tr>\n",
              "    <tr>\n",
              "      <th>56</th>\n",
              "      <td>Not placed</td>\n",
              "      <td>Not placed</td>\n",
              "    </tr>\n",
              "    <tr>\n",
              "      <th>84</th>\n",
              "      <td>Not placed</td>\n",
              "      <td>Placed</td>\n",
              "    </tr>\n",
              "    <tr>\n",
              "      <th>98</th>\n",
              "      <td>Placed</td>\n",
              "      <td>Placed</td>\n",
              "    </tr>\n",
              "  </tbody>\n",
              "</table>\n",
              "</div>"
            ],
            "text/plain": [
              "     predicted      Actual\n",
              "45  Not placed      Placed\n",
              "95  Not placed  Not placed\n",
              "56  Not placed  Not placed\n",
              "84  Not placed      Placed\n",
              "98      Placed      Placed"
            ]
          },
          "execution_count": 14,
          "metadata": {},
          "output_type": "execute_result"
        }
      ],
      "source": [
        "Actual_predicted_DT=pd.DataFrame({'predicted':y_predict_DT, 'Actual':y_test})\n",
        "Actual_predicted_DT.head()"
      ]
    },
    {
      "cell_type": "markdown",
      "metadata": {
        "id": "OAjaX3I37Fmo"
      },
      "source": [
        "## Check the performance of Decision tree"
      ]
    },
    {
      "cell_type": "markdown",
      "metadata": {
        "id": "ulZsn_Ra7Fmp"
      },
      "source": [
        "### Draw the confusion matrix of decision tree"
      ]
    },
    {
      "cell_type": "code",
      "execution_count": null,
      "metadata": {
        "id": "QR5whRex7Fmp",
        "outputId": "1ced16d7-b95a-4404-ca9e-4df504fe4590"
      },
      "outputs": [
        {
          "data": {
            "text/html": [
              "<div>\n",
              "<style scoped>\n",
              "    .dataframe tbody tr th:only-of-type {\n",
              "        vertical-align: middle;\n",
              "    }\n",
              "\n",
              "    .dataframe tbody tr th {\n",
              "        vertical-align: top;\n",
              "    }\n",
              "\n",
              "    .dataframe thead th {\n",
              "        text-align: right;\n",
              "    }\n",
              "</style>\n",
              "<table border=\"1\" class=\"dataframe\">\n",
              "  <thead>\n",
              "    <tr style=\"text-align: right;\">\n",
              "      <th></th>\n",
              "      <th>Not placed Predicted</th>\n",
              "      <th>placed predicted</th>\n",
              "    </tr>\n",
              "  </thead>\n",
              "  <tbody>\n",
              "    <tr>\n",
              "      <th>Not placed</th>\n",
              "      <td>10</td>\n",
              "      <td>4</td>\n",
              "    </tr>\n",
              "    <tr>\n",
              "      <th>placed</th>\n",
              "      <td>4</td>\n",
              "      <td>6</td>\n",
              "    </tr>\n",
              "  </tbody>\n",
              "</table>\n",
              "</div>"
            ],
            "text/plain": [
              "            Not placed Predicted  placed predicted\n",
              "Not placed                    10                 4\n",
              "placed                         4                 6"
            ]
          },
          "execution_count": 15,
          "metadata": {},
          "output_type": "execute_result"
        }
      ],
      "source": [
        "from sklearn.metrics import confusion_matrix\n",
        "\n",
        "pd.DataFrame(\n",
        "    confusion_matrix(y_test, y_predict_DT),\n",
        "    columns=['Not placed Predicted', 'placed predicted'],\n",
        "    index=['Not placed', 'placed']\n",
        ")"
      ]
    },
    {
      "cell_type": "markdown",
      "metadata": {
        "id": "-nWAR8gB7Fmq"
      },
      "source": [
        "### Calculate Accuracy, recall, precision, f1 Score, of decision tree."
      ]
    },
    {
      "cell_type": "code",
      "execution_count": null,
      "metadata": {
        "id": "SKWlR1zP7Fmr",
        "outputId": "cd34bbb9-699d-41d8-f8c1-4b8f1f3cafd5"
      },
      "outputs": [
        {
          "name": "stdout",
          "output_type": "stream",
          "text": [
            "Accuracy of decison tree is  66.66666666666666\n",
            "Recall of decision tree is 0.6\n",
            "Precision of decision tree is 0.6\n",
            "f1_score of decision tree is 0.6\n"
          ]
        }
      ],
      "source": [
        "print(\"Accuracy of decison tree is \" ,metrics.accuracy_score(y_test, y_predict_DT)*100)\n",
        "print(\"Recall of decision tree is\",metrics.recall_score(y_test, y_predict_DT, pos_label=\"Placed\"))\n",
        "print(\"Precision of decision tree is\",metrics.precision_score(y_test, y_predict_DT, pos_label=\"Placed\"))\n",
        "print(\"f1_score of decision tree is\",metrics.f1_score(y_test, y_predict_DT, pos_label=\"Placed\"))"
      ]
    },
    {
      "cell_type": "markdown",
      "metadata": {
        "id": "uhujX1_37Fms"
      },
      "source": [
        "#  <span style=\"color:red\"> <center> 2) K nearest Neighbour </centre> </span>"
      ]
    },
    {
      "cell_type": "code",
      "execution_count": null,
      "metadata": {
        "id": "PzJJMUXu7Fmt"
      },
      "outputs": [],
      "source": [
        "model = KNeighborsClassifier(n_neighbors=3)\n",
        "model = model.fit(X_train,y_train)\n",
        "y_predict_knn = model.predict(X_test)"
      ]
    },
    {
      "cell_type": "code",
      "execution_count": null,
      "metadata": {
        "id": "XpGjzFuI7Fmt",
        "outputId": "61ba495c-7d53-4890-d844-ec2a48d0f584"
      },
      "outputs": [
        {
          "data": {
            "text/html": [
              "<div>\n",
              "<style scoped>\n",
              "    .dataframe tbody tr th:only-of-type {\n",
              "        vertical-align: middle;\n",
              "    }\n",
              "\n",
              "    .dataframe tbody tr th {\n",
              "        vertical-align: top;\n",
              "    }\n",
              "\n",
              "    .dataframe thead th {\n",
              "        text-align: right;\n",
              "    }\n",
              "</style>\n",
              "<table border=\"1\" class=\"dataframe\">\n",
              "  <thead>\n",
              "    <tr style=\"text-align: right;\">\n",
              "      <th></th>\n",
              "      <th>predicted</th>\n",
              "      <th>Actual</th>\n",
              "    </tr>\n",
              "  </thead>\n",
              "  <tbody>\n",
              "    <tr>\n",
              "      <th>45</th>\n",
              "      <td>Placed</td>\n",
              "      <td>Placed</td>\n",
              "    </tr>\n",
              "    <tr>\n",
              "      <th>95</th>\n",
              "      <td>Not placed</td>\n",
              "      <td>Not placed</td>\n",
              "    </tr>\n",
              "    <tr>\n",
              "      <th>56</th>\n",
              "      <td>Not placed</td>\n",
              "      <td>Not placed</td>\n",
              "    </tr>\n",
              "    <tr>\n",
              "      <th>84</th>\n",
              "      <td>Not placed</td>\n",
              "      <td>Placed</td>\n",
              "    </tr>\n",
              "    <tr>\n",
              "      <th>98</th>\n",
              "      <td>Placed</td>\n",
              "      <td>Placed</td>\n",
              "    </tr>\n",
              "  </tbody>\n",
              "</table>\n",
              "</div>"
            ],
            "text/plain": [
              "     predicted      Actual\n",
              "45      Placed      Placed\n",
              "95  Not placed  Not placed\n",
              "56  Not placed  Not placed\n",
              "84  Not placed      Placed\n",
              "98      Placed      Placed"
            ]
          },
          "execution_count": 18,
          "metadata": {},
          "output_type": "execute_result"
        }
      ],
      "source": [
        "Actual_predicted_knn=pd.DataFrame({'predicted':y_predict_knn, 'Actual':y_test})\n",
        "Actual_predicted_knn.head()"
      ]
    },
    {
      "cell_type": "markdown",
      "metadata": {
        "id": "5qRlZ6mB7Fmu"
      },
      "source": [
        "### Draw the confusion matrix of K nearest Neighbour"
      ]
    },
    {
      "cell_type": "code",
      "execution_count": null,
      "metadata": {
        "id": "Iu0OiEGA7Fmv",
        "outputId": "28969f9a-018c-47ae-db8e-7ce3984d9bc8"
      },
      "outputs": [
        {
          "data": {
            "text/html": [
              "<div>\n",
              "<style scoped>\n",
              "    .dataframe tbody tr th:only-of-type {\n",
              "        vertical-align: middle;\n",
              "    }\n",
              "\n",
              "    .dataframe tbody tr th {\n",
              "        vertical-align: top;\n",
              "    }\n",
              "\n",
              "    .dataframe thead th {\n",
              "        text-align: right;\n",
              "    }\n",
              "</style>\n",
              "<table border=\"1\" class=\"dataframe\">\n",
              "  <thead>\n",
              "    <tr style=\"text-align: right;\">\n",
              "      <th></th>\n",
              "      <th>Not placed Predicted</th>\n",
              "      <th>placed predicted</th>\n",
              "    </tr>\n",
              "  </thead>\n",
              "  <tbody>\n",
              "    <tr>\n",
              "      <th>Not placed</th>\n",
              "      <td>12</td>\n",
              "      <td>2</td>\n",
              "    </tr>\n",
              "    <tr>\n",
              "      <th>placed</th>\n",
              "      <td>3</td>\n",
              "      <td>7</td>\n",
              "    </tr>\n",
              "  </tbody>\n",
              "</table>\n",
              "</div>"
            ],
            "text/plain": [
              "            Not placed Predicted  placed predicted\n",
              "Not placed                    12                 2\n",
              "placed                         3                 7"
            ]
          },
          "execution_count": 19,
          "metadata": {},
          "output_type": "execute_result"
        }
      ],
      "source": [
        "from sklearn.metrics import confusion_matrix\n",
        "\n",
        "pd.DataFrame(\n",
        "    confusion_matrix(y_test, y_predict_knn),\n",
        "    columns=['Not placed Predicted', 'placed predicted'],\n",
        "    index=['Not placed', 'placed']\n",
        ")"
      ]
    },
    {
      "cell_type": "markdown",
      "metadata": {
        "id": "04EUbW-a7Fmw"
      },
      "source": [
        "### Calculate Accuracy, recall, precision, f1 Score, of K nearest Neighbour."
      ]
    },
    {
      "cell_type": "code",
      "execution_count": null,
      "metadata": {
        "id": "JErFLNP27Fmw",
        "outputId": "bea9a8fb-4f21-44e3-a3eb-6f1ea2f7275a"
      },
      "outputs": [
        {
          "name": "stdout",
          "output_type": "stream",
          "text": [
            "Accuracy of K nearest Neighbour is 79.16666666666666\n",
            "Recall of K nearest Neighbour is 0.7\n",
            "Precision of K nearest Neighbour is 0.7777777777777778\n",
            "f1_score of K nearest Neighbour is 0.7368421052631577\n"
          ]
        }
      ],
      "source": [
        "print(\"Accuracy of K nearest Neighbour is\" ,metrics.accuracy_score(y_test, y_predict_knn)*100)\n",
        "print(\"Recall of K nearest Neighbour is\",metrics.recall_score(y_test, y_predict_knn, pos_label=\"Placed\"))\n",
        "print(\"Precision of K nearest Neighbour is\",metrics.precision_score(y_test, y_predict_knn, pos_label=\"Placed\"))\n",
        "print(\"f1_score of K nearest Neighbour is\",metrics.f1_score(y_test, y_predict_knn, pos_label=\"Placed\"))"
      ]
    },
    {
      "cell_type": "markdown",
      "metadata": {
        "id": "X4UIscJ67Fmx"
      },
      "source": [
        "#  <span style=\"color:red\"> <center> 3) Logistic Regresssion </centre> </span>"
      ]
    },
    {
      "cell_type": "code",
      "execution_count": null,
      "metadata": {
        "id": "PM7-AiEf7Fmx"
      },
      "outputs": [],
      "source": [
        "model = LogisticRegression(max_iter=2000) # The model needed 2000 iterations to converge. (To get the optimal parameters)\n",
        "model = model.fit(X_train,y_train)\n",
        "y_predict_lr = model.predict(X_test)"
      ]
    },
    {
      "cell_type": "code",
      "execution_count": null,
      "metadata": {
        "id": "pxmMvVf-7Fmy",
        "outputId": "87b53dd2-0410-4cfd-bff6-e0f3f66aa05b"
      },
      "outputs": [
        {
          "data": {
            "text/html": [
              "<div>\n",
              "<style scoped>\n",
              "    .dataframe tbody tr th:only-of-type {\n",
              "        vertical-align: middle;\n",
              "    }\n",
              "\n",
              "    .dataframe tbody tr th {\n",
              "        vertical-align: top;\n",
              "    }\n",
              "\n",
              "    .dataframe thead th {\n",
              "        text-align: right;\n",
              "    }\n",
              "</style>\n",
              "<table border=\"1\" class=\"dataframe\">\n",
              "  <thead>\n",
              "    <tr style=\"text-align: right;\">\n",
              "      <th></th>\n",
              "      <th>predicted</th>\n",
              "      <th>Actual</th>\n",
              "    </tr>\n",
              "  </thead>\n",
              "  <tbody>\n",
              "    <tr>\n",
              "      <th>45</th>\n",
              "      <td>Placed</td>\n",
              "      <td>Placed</td>\n",
              "    </tr>\n",
              "    <tr>\n",
              "      <th>95</th>\n",
              "      <td>Not placed</td>\n",
              "      <td>Not placed</td>\n",
              "    </tr>\n",
              "    <tr>\n",
              "      <th>56</th>\n",
              "      <td>Not placed</td>\n",
              "      <td>Not placed</td>\n",
              "    </tr>\n",
              "    <tr>\n",
              "      <th>84</th>\n",
              "      <td>Not placed</td>\n",
              "      <td>Placed</td>\n",
              "    </tr>\n",
              "    <tr>\n",
              "      <th>98</th>\n",
              "      <td>Placed</td>\n",
              "      <td>Placed</td>\n",
              "    </tr>\n",
              "  </tbody>\n",
              "</table>\n",
              "</div>"
            ],
            "text/plain": [
              "     predicted      Actual\n",
              "45      Placed      Placed\n",
              "95  Not placed  Not placed\n",
              "56  Not placed  Not placed\n",
              "84  Not placed      Placed\n",
              "98      Placed      Placed"
            ]
          },
          "execution_count": 34,
          "metadata": {},
          "output_type": "execute_result"
        }
      ],
      "source": [
        "Actual_predicted=pd.DataFrame({'predicted':y_predict_lr, 'Actual':y_test})\n",
        "Actual_predicted.head()"
      ]
    },
    {
      "cell_type": "markdown",
      "metadata": {
        "id": "puHdGtIY7Fmz"
      },
      "source": [
        "### Draw the confusion matrix of Logistic Regresssion"
      ]
    },
    {
      "cell_type": "code",
      "execution_count": null,
      "metadata": {
        "id": "WW6FbAQ17Fmz",
        "outputId": "7ed732c2-8bea-4339-c234-aae71f181eb5"
      },
      "outputs": [
        {
          "data": {
            "text/html": [
              "<div>\n",
              "<style scoped>\n",
              "    .dataframe tbody tr th:only-of-type {\n",
              "        vertical-align: middle;\n",
              "    }\n",
              "\n",
              "    .dataframe tbody tr th {\n",
              "        vertical-align: top;\n",
              "    }\n",
              "\n",
              "    .dataframe thead th {\n",
              "        text-align: right;\n",
              "    }\n",
              "</style>\n",
              "<table border=\"1\" class=\"dataframe\">\n",
              "  <thead>\n",
              "    <tr style=\"text-align: right;\">\n",
              "      <th></th>\n",
              "      <th>Not placed Predicted</th>\n",
              "      <th>placed predicted</th>\n",
              "    </tr>\n",
              "  </thead>\n",
              "  <tbody>\n",
              "    <tr>\n",
              "      <th>Not placed</th>\n",
              "      <td>12</td>\n",
              "      <td>2</td>\n",
              "    </tr>\n",
              "    <tr>\n",
              "      <th>placed</th>\n",
              "      <td>0</td>\n",
              "      <td>10</td>\n",
              "    </tr>\n",
              "  </tbody>\n",
              "</table>\n",
              "</div>"
            ],
            "text/plain": [
              "            Not placed Predicted  placed predicted\n",
              "Not placed                    12                 2\n",
              "placed                         0                10"
            ]
          },
          "execution_count": 23,
          "metadata": {},
          "output_type": "execute_result"
        }
      ],
      "source": [
        "from sklearn.metrics import confusion_matrix\n",
        "\n",
        "pd.DataFrame(\n",
        "    confusion_matrix(y_test, y_predict_lr),\n",
        "    columns=['Not placed Predicted', 'placed predicted'],\n",
        "    index=['Not placed', 'placed']\n",
        ")"
      ]
    },
    {
      "cell_type": "markdown",
      "metadata": {
        "id": "4lwoA4-G7Fm0"
      },
      "source": [
        "### Calculate Accuracy, recall, precision, f1 Score, of Logistic Regresssion."
      ]
    },
    {
      "cell_type": "code",
      "execution_count": null,
      "metadata": {
        "id": "HOozORzO7Fm1",
        "outputId": "752b8a2c-3daa-409b-bb8f-17b4af1092aa"
      },
      "outputs": [
        {
          "name": "stdout",
          "output_type": "stream",
          "text": [
            "Accuracy of Logistic Regresssion is  91.66666666666666\n",
            "recall of Logistic Regresssion is 1.0\n",
            "Precision of Logistic Regresssion is 0.8333333333333334\n",
            "f1_score of Logistic Regresssion is 0.9090909090909091\n"
          ]
        }
      ],
      "source": [
        "print(\"Accuracy of Logistic Regresssion is \" ,metrics.accuracy_score(y_test, y_predict_lr)*100)\n",
        "print(\"recall of Logistic Regresssion is\",metrics.recall_score(y_test, y_predict_lr, pos_label=\"Placed\"))\n",
        "print(\"Precision of Logistic Regresssion is\",metrics.precision_score(y_test, y_predict_lr, pos_label=\"Placed\"))\n",
        "print(\"f1_score of Logistic Regresssion is\",metrics.f1_score(y_test, y_predict_lr, pos_label=\"Placed\"))"
      ]
    },
    {
      "cell_type": "markdown",
      "metadata": {
        "id": "Y51dbh9F7Fm1"
      },
      "source": [
        "#  <span style=\"color:red\"> <center> 4) Support Vector Machine </centre> </span>"
      ]
    },
    {
      "cell_type": "code",
      "execution_count": null,
      "metadata": {
        "id": "imXIfNlU7Fm2"
      },
      "outputs": [],
      "source": [
        "model = SVC()\n",
        "model = model.fit(X_train,y_train)\n",
        "y_predict_svc = model.predict(X_test)"
      ]
    },
    {
      "cell_type": "code",
      "execution_count": null,
      "metadata": {
        "id": "KRIy2TQX7Fm2",
        "outputId": "c6e87c68-cead-433f-81e2-af557dc91534"
      },
      "outputs": [
        {
          "data": {
            "text/html": [
              "<div>\n",
              "<style scoped>\n",
              "    .dataframe tbody tr th:only-of-type {\n",
              "        vertical-align: middle;\n",
              "    }\n",
              "\n",
              "    .dataframe tbody tr th {\n",
              "        vertical-align: top;\n",
              "    }\n",
              "\n",
              "    .dataframe thead th {\n",
              "        text-align: right;\n",
              "    }\n",
              "</style>\n",
              "<table border=\"1\" class=\"dataframe\">\n",
              "  <thead>\n",
              "    <tr style=\"text-align: right;\">\n",
              "      <th></th>\n",
              "      <th>predicted</th>\n",
              "      <th>Actual</th>\n",
              "    </tr>\n",
              "  </thead>\n",
              "  <tbody>\n",
              "    <tr>\n",
              "      <th>45</th>\n",
              "      <td>Not placed</td>\n",
              "      <td>Placed</td>\n",
              "    </tr>\n",
              "    <tr>\n",
              "      <th>95</th>\n",
              "      <td>Not placed</td>\n",
              "      <td>Not placed</td>\n",
              "    </tr>\n",
              "    <tr>\n",
              "      <th>56</th>\n",
              "      <td>Not placed</td>\n",
              "      <td>Not placed</td>\n",
              "    </tr>\n",
              "    <tr>\n",
              "      <th>84</th>\n",
              "      <td>Not placed</td>\n",
              "      <td>Placed</td>\n",
              "    </tr>\n",
              "    <tr>\n",
              "      <th>98</th>\n",
              "      <td>Placed</td>\n",
              "      <td>Placed</td>\n",
              "    </tr>\n",
              "  </tbody>\n",
              "</table>\n",
              "</div>"
            ],
            "text/plain": [
              "     predicted      Actual\n",
              "45  Not placed      Placed\n",
              "95  Not placed  Not placed\n",
              "56  Not placed  Not placed\n",
              "84  Not placed      Placed\n",
              "98      Placed      Placed"
            ]
          },
          "execution_count": 26,
          "metadata": {},
          "output_type": "execute_result"
        }
      ],
      "source": [
        "Actual_predicted=pd.DataFrame({'predicted':y_predict_svc, 'Actual':y_test})\n",
        "Actual_predicted.head()"
      ]
    },
    {
      "cell_type": "markdown",
      "metadata": {
        "id": "Y3ZDHEN57Fm3"
      },
      "source": [
        "### Draw the confusion matrix of Support Vector Machine"
      ]
    },
    {
      "cell_type": "code",
      "execution_count": null,
      "metadata": {
        "id": "CtMf46zj7Fm4",
        "outputId": "8dc5ab57-84d8-4250-a360-eeba064e67ec"
      },
      "outputs": [
        {
          "data": {
            "text/html": [
              "<div>\n",
              "<style scoped>\n",
              "    .dataframe tbody tr th:only-of-type {\n",
              "        vertical-align: middle;\n",
              "    }\n",
              "\n",
              "    .dataframe tbody tr th {\n",
              "        vertical-align: top;\n",
              "    }\n",
              "\n",
              "    .dataframe thead th {\n",
              "        text-align: right;\n",
              "    }\n",
              "</style>\n",
              "<table border=\"1\" class=\"dataframe\">\n",
              "  <thead>\n",
              "    <tr style=\"text-align: right;\">\n",
              "      <th></th>\n",
              "      <th>Not placed Predicted</th>\n",
              "      <th>placed predicted</th>\n",
              "    </tr>\n",
              "  </thead>\n",
              "  <tbody>\n",
              "    <tr>\n",
              "      <th>Not placed</th>\n",
              "      <td>14</td>\n",
              "      <td>0</td>\n",
              "    </tr>\n",
              "    <tr>\n",
              "      <th>placed</th>\n",
              "      <td>6</td>\n",
              "      <td>4</td>\n",
              "    </tr>\n",
              "  </tbody>\n",
              "</table>\n",
              "</div>"
            ],
            "text/plain": [
              "            Not placed Predicted  placed predicted\n",
              "Not placed                    14                 0\n",
              "placed                         6                 4"
            ]
          },
          "execution_count": 27,
          "metadata": {},
          "output_type": "execute_result"
        }
      ],
      "source": [
        "from sklearn.metrics import confusion_matrix\n",
        "\n",
        "pd.DataFrame(\n",
        "    confusion_matrix(y_test, y_predict_svc),\n",
        "    columns=['Not placed Predicted', 'placed predicted'],\n",
        "    index=['Not placed', 'placed']\n",
        ")"
      ]
    },
    {
      "cell_type": "markdown",
      "metadata": {
        "id": "MkUT-vsQ7Fm4"
      },
      "source": [
        "### Calculate Accuracy, recall, precision, f1 Score, of Support Vector Machine."
      ]
    },
    {
      "cell_type": "code",
      "execution_count": null,
      "metadata": {
        "id": "yVItNq3Z7Fm5",
        "outputId": "91500a8c-158e-4ea5-d616-c79fb2480ade"
      },
      "outputs": [
        {
          "name": "stdout",
          "output_type": "stream",
          "text": [
            "Accuracy of Support Vector Machine is  75.0\n",
            "recall of Support Vector Machine is 0.4\n",
            "Precision of Support Vector Machine is 1.0\n",
            "f1_score of Support Vector Machine is 0.5714285714285715\n"
          ]
        }
      ],
      "source": [
        "print(\"Accuracy of Support Vector Machine is \" ,metrics.accuracy_score(y_test, y_predict_svc)*100)\n",
        "print(\"recall of Support Vector Machine is\",metrics.recall_score(y_test, y_predict_svc, pos_label=\"Placed\"))\n",
        "print(\"Precision of Support Vector Machine is\",metrics.precision_score(y_test, y_predict_svc, pos_label=\"Placed\"))\n",
        "print(\"f1_score of Support Vector Machine is\",metrics.f1_score(y_test, y_predict_svc, pos_label=\"Placed\"))"
      ]
    },
    {
      "cell_type": "markdown",
      "metadata": {
        "id": "2lNL1gJS7Fm5"
      },
      "source": [
        "#  <span style=\"color:red\"> <center> 4) Naive bayes </centre> </span>"
      ]
    },
    {
      "cell_type": "code",
      "execution_count": null,
      "metadata": {
        "id": "1Vj3_XKw7Fm6"
      },
      "outputs": [],
      "source": [
        "model = GaussianNB()\n",
        "model = model.fit(X_train,y_train)\n",
        "y_predict_nb = model.predict(X_test)"
      ]
    },
    {
      "cell_type": "code",
      "execution_count": null,
      "metadata": {
        "id": "r2ULUgOR7Fm6",
        "outputId": "0633a8eb-1c5d-4507-c114-ac8a8eb02254"
      },
      "outputs": [
        {
          "data": {
            "text/html": [
              "<div>\n",
              "<style scoped>\n",
              "    .dataframe tbody tr th:only-of-type {\n",
              "        vertical-align: middle;\n",
              "    }\n",
              "\n",
              "    .dataframe tbody tr th {\n",
              "        vertical-align: top;\n",
              "    }\n",
              "\n",
              "    .dataframe thead th {\n",
              "        text-align: right;\n",
              "    }\n",
              "</style>\n",
              "<table border=\"1\" class=\"dataframe\">\n",
              "  <thead>\n",
              "    <tr style=\"text-align: right;\">\n",
              "      <th></th>\n",
              "      <th>predicted</th>\n",
              "      <th>Actual</th>\n",
              "    </tr>\n",
              "  </thead>\n",
              "  <tbody>\n",
              "    <tr>\n",
              "      <th>45</th>\n",
              "      <td>Not placed</td>\n",
              "      <td>Placed</td>\n",
              "    </tr>\n",
              "    <tr>\n",
              "      <th>95</th>\n",
              "      <td>Not placed</td>\n",
              "      <td>Not placed</td>\n",
              "    </tr>\n",
              "    <tr>\n",
              "      <th>56</th>\n",
              "      <td>Not placed</td>\n",
              "      <td>Not placed</td>\n",
              "    </tr>\n",
              "    <tr>\n",
              "      <th>84</th>\n",
              "      <td>Not placed</td>\n",
              "      <td>Placed</td>\n",
              "    </tr>\n",
              "    <tr>\n",
              "      <th>98</th>\n",
              "      <td>Placed</td>\n",
              "      <td>Placed</td>\n",
              "    </tr>\n",
              "  </tbody>\n",
              "</table>\n",
              "</div>"
            ],
            "text/plain": [
              "     predicted      Actual\n",
              "45  Not placed      Placed\n",
              "95  Not placed  Not placed\n",
              "56  Not placed  Not placed\n",
              "84  Not placed      Placed\n",
              "98      Placed      Placed"
            ]
          },
          "execution_count": 30,
          "metadata": {},
          "output_type": "execute_result"
        }
      ],
      "source": [
        "Actual_predicted=pd.DataFrame({'predicted':y_predict_svc, 'Actual':y_test})\n",
        "Actual_predicted.head()"
      ]
    },
    {
      "cell_type": "code",
      "execution_count": null,
      "metadata": {
        "id": "QMKumLzr7Fm7",
        "outputId": "a884cca4-4f23-4234-dd61-79042181325a"
      },
      "outputs": [
        {
          "data": {
            "text/html": [
              "<div>\n",
              "<style scoped>\n",
              "    .dataframe tbody tr th:only-of-type {\n",
              "        vertical-align: middle;\n",
              "    }\n",
              "\n",
              "    .dataframe tbody tr th {\n",
              "        vertical-align: top;\n",
              "    }\n",
              "\n",
              "    .dataframe thead th {\n",
              "        text-align: right;\n",
              "    }\n",
              "</style>\n",
              "<table border=\"1\" class=\"dataframe\">\n",
              "  <thead>\n",
              "    <tr style=\"text-align: right;\">\n",
              "      <th></th>\n",
              "      <th>Not placed Predicted</th>\n",
              "      <th>placed predicted</th>\n",
              "    </tr>\n",
              "  </thead>\n",
              "  <tbody>\n",
              "    <tr>\n",
              "      <th>Not placed</th>\n",
              "      <td>14</td>\n",
              "      <td>0</td>\n",
              "    </tr>\n",
              "    <tr>\n",
              "      <th>placed</th>\n",
              "      <td>6</td>\n",
              "      <td>4</td>\n",
              "    </tr>\n",
              "  </tbody>\n",
              "</table>\n",
              "</div>"
            ],
            "text/plain": [
              "            Not placed Predicted  placed predicted\n",
              "Not placed                    14                 0\n",
              "placed                         6                 4"
            ]
          },
          "execution_count": 31,
          "metadata": {},
          "output_type": "execute_result"
        }
      ],
      "source": [
        "from sklearn.metrics import confusion_matrix\n",
        "\n",
        "pd.DataFrame(\n",
        "    confusion_matrix(y_test, y_predict_svc),\n",
        "    columns=['Not placed Predicted', 'placed predicted'],\n",
        "    index=['Not placed', 'placed']\n",
        ")"
      ]
    },
    {
      "cell_type": "code",
      "execution_count": null,
      "metadata": {
        "id": "w6NtQYZ_7Fm7",
        "outputId": "938e825f-a009-41fb-d7d2-2ac3c6aff280"
      },
      "outputs": [
        {
          "name": "stdout",
          "output_type": "stream",
          "text": [
            "Accuracy of Naive bayes is  75.0\n",
            "recall of Naive bayes is 0.4\n",
            "Precision of Naive bayes is 1.0\n",
            "f1_score of Naive is 0.5714285714285715\n"
          ]
        }
      ],
      "source": [
        "print(\"Accuracy of Naive bayes is \" ,metrics.accuracy_score(y_test, y_predict_svc)*100)\n",
        "print(\"recall of Naive bayes is\",metrics.recall_score(y_test, y_predict_svc, pos_label=\"Placed\"))\n",
        "print(\"Precision of Naive bayes is\",metrics.precision_score(y_test, y_predict_svc, pos_label=\"Placed\"))\n",
        "print(\"f1_score of Naive is\",metrics.f1_score(y_test, y_predict_svc, pos_label=\"Placed\"))"
      ]
    }
  ],
  "metadata": {
    "kernelspec": {
      "display_name": "Python 3",
      "language": "python",
      "name": "python3"
    },
    "language_info": {
      "codemirror_mode": {
        "name": "ipython",
        "version": 3
      },
      "file_extension": ".py",
      "mimetype": "text/x-python",
      "name": "python",
      "nbconvert_exporter": "python",
      "pygments_lexer": "ipython3",
      "version": "3.8.3"
    },
    "colab": {
      "provenance": [],
      "include_colab_link": true
    }
  },
  "nbformat": 4,
  "nbformat_minor": 0
}